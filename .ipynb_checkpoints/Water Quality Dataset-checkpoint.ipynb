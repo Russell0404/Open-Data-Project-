{
 "cells": [
  {
   "cell_type": "markdown",
   "metadata": {},
   "source": [
    "# Open Data Project - Water Quality in NSW\n",
    "\n",
    "- This notebook is the panda version of my data from water quality\n",
    "- Total of 9 regions\n",
    "- define \"Clean water\"/\"unclean water\"\n",
    "\n",
    "By Russell Kang, z5257037\n"
   ]
  },
  {
   "cell_type": "code",
   "execution_count": 3,
   "metadata": {},
   "outputs": [],
   "source": [
    "import matplotlib\n",
    "import matplotlib.pyplot as plt\n",
    "import numpy as np\n",
    "import pandas as pd\n",
    "import os"
   ]
  },
  {
   "cell_type": "code",
   "execution_count": 4,
   "metadata": {},
   "outputs": [
    {
     "name": "stdout",
     "output_type": "stream",
     "text": [
      "Dataset - Water Quality/1_Regolith_new_quality.csv\n"
     ]
    },
    {
     "data": {
      "text/plain": [
       "{'Dataset - Water Quality/1_Regolith_new_quality.csv':   Station name     Gauging time  Alkalinity (Total) as CaCO3  \\\n",
       " 0     GW065981  27/03/2003 0:03                          150   \n",
       " \n",
       "    Alkalinity as Bicarbonate (HCO3)  Alkalinity as Bicarbonate (HCO3).1  \\\n",
       " 0                               150                                 NaN   \n",
       " \n",
       "    Alkalinity as Carbonate (CO3)  Alpha Cypermethrin  \\\n",
       " 0                            NaN                 NaN   \n",
       " \n",
       "    Aluminium as Al - soluble  Aluminium as Al - total  Barium as Ba - soluble  \\\n",
       " 0                        NaN                     0.05                     NaN   \n",
       " \n",
       "    ...  Potassium as K - soluble  Silica as SiO2 - soluble  \\\n",
       " 0  ...                         5                        20   \n",
       " \n",
       "    Silica as SiO2 - soluble.1  Silver as Ag - total  Sodium as Na - soluble  \\\n",
       " 0                         NaN                  0.05                     110   \n",
       " \n",
       "    Solids - total dissolved @ 105 C  Sulphate as SO4  Zinc as Zn - soluble  \\\n",
       " 0                               320                5                   NaN   \n",
       " \n",
       "    Zinc as Zn - total  Screen_code  \n",
       " 0                0.02            E  \n",
       " \n",
       " [1 rows x 48 columns]}"
      ]
     },
     "execution_count": 4,
     "metadata": {},
     "output_type": "execute_result"
    }
   ],
   "source": [
    "my_csvs = {'Dataset - Water Quality/1_Regolith_new_quality.csv': ''}\n",
    "\n",
    "for f in my_csvs:\n",
    "    my_csvs[f] = pd.read_csv(f)\n",
    "    print(f)\n",
    "my_csvs"
   ]
  },
  {
   "cell_type": "code",
   "execution_count": null,
   "metadata": {},
   "outputs": [],
   "source": []
  }
 ],
 "metadata": {
  "kernelspec": {
   "display_name": "Python 3",
   "language": "python",
   "name": "python3"
  },
  "language_info": {
   "codemirror_mode": {
    "name": "ipython",
    "version": 3
   },
   "file_extension": ".py",
   "mimetype": "text/x-python",
   "name": "python",
   "nbconvert_exporter": "python",
   "pygments_lexer": "ipython3",
   "version": "3.7.3"
  }
 },
 "nbformat": 4,
 "nbformat_minor": 2
}
